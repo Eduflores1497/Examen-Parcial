{
  "nbformat": 4,
  "nbformat_minor": 0,
  "metadata": {
    "colab": {
      "provenance": [],
      "authorship_tag": "ABX9TyOOtTVzYVPQLHHfD1fJ0qDf",
      "include_colab_link": true
    },
    "kernelspec": {
      "name": "python3",
      "display_name": "Python 3"
    },
    "language_info": {
      "name": "python"
    }
  },
  "cells": [
    {
      "cell_type": "markdown",
      "metadata": {
        "id": "view-in-github",
        "colab_type": "text"
      },
      "source": [
        "<a href=\"https://colab.research.google.com/github/Eduflores1497/Examen-Parcial/blob/main/Problemario16.ipynb\" target=\"_parent\"><img src=\"https://colab.research.google.com/assets/colab-badge.svg\" alt=\"Open In Colab\"/></a>"
      ]
    },
    {
      "cell_type": "code",
      "execution_count": null,
      "metadata": {
        "id": "Idqf_-gClUas"
      },
      "outputs": [],
      "source": [
        "import numpy as np\n",
        "import random as rand\n",
        "import matplotlib.pyplot as plt\n",
        "from scipy.stats import norm"
      ]
    },
    {
      "cell_type": "code",
      "source": [
        "def llegadas():\n",
        "  favorables=0\n",
        "  x=rand.uniform(0,30)\n",
        "  y=rand.uniform(0,30)\n",
        "  c=abs(x-y)\n",
        "  if c<=10:\n",
        "    favorables=favorables+1\n",
        "  return favorables\n",
        "  "
      ],
      "metadata": {
        "id": "AeeApdsqp-As"
      },
      "execution_count": null,
      "outputs": []
    },
    {
      "cell_type": "code",
      "source": [
        "def simulaciones(n):\n",
        "  prob=[]\n",
        "  favs=0\n",
        "  for i in range (n):\n",
        "    favs=favs+llegadas()\n",
        "    prob.append(favs/(i+1))\n",
        "  return prob"
      ],
      "metadata": {
        "id": "nSih8HNmtk5N"
      },
      "execution_count": null,
      "outputs": []
    },
    {
      "cell_type": "code",
      "source": [
        "n=2000\n",
        "x=simulaciones(n)"
      ],
      "metadata": {
        "id": "ly6B0-NCw2pd"
      },
      "execution_count": null,
      "outputs": []
    },
    {
      "cell_type": "code",
      "source": [
        "plt.plot(x)\n",
        "plt.xlabel('iteraciones')\n",
        "plt.ylabel('p')\n",
        "plt.title('Probabilidad <=10')\n",
        "plt.show()"
      ],
      "metadata": {
        "colab": {
          "base_uri": "https://localhost:8080/",
          "height": 472
        },
        "id": "bnBXGL2szGVD",
        "outputId": "bd3377e5-37ce-486d-a056-f5c7924302ce"
      },
      "execution_count": null,
      "outputs": [
        {
          "output_type": "display_data",
          "data": {
            "text/plain": [
              "<Figure size 640x480 with 1 Axes>"
            ],
            "image/png": "[encoded data removed]"
          },
          "metadata": {}
        }
      ]
    },
    {
      "cell_type": "code",
      "source": [
        "print(np.mean(x), np.std(x))"
      ],
      "metadata": {
        "colab": {
          "base_uri": "https://localhost:8080/"
        },
        "id": "Hny8pbw707xB",
        "outputId": "b9cf5794-d208-46a1-c9d4-3f3b221dcbcc"
      },
      "execution_count": null,
      "outputs": [
        {
          "output_type": "stream",
          "name": "stdout",
          "text": [
            "0.5519922930654382 0.024063956119280545\n"
          ]
        }
      ]
    },
    {
      "cell_type": "markdown",
      "source": [
        "Calculamos N para saber el número de muestras que necesitamos."
      ],
      "metadata": {
        "id": "AvNTAb-b1eQE"
      }
    },
    {
      "cell_type": "markdown",
      "source": [
        "![N.PNG](data:image/png;base64,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)"
      ],
      "metadata": {
        "id": "R-XBjkMs1KfK"
      }
    },
    {
      "cell_type": "code",
      "source": [
        "N = (2*np.std(x)*1.96/0.01)**2\n",
        "print(N)"
      ],
      "metadata": {
        "colab": {
          "base_uri": "https://localhost:8080/"
        },
        "id": "ExtGX-Wd1yR7",
        "outputId": "d5e84798-f247-4cf9-eeaa-b1489e3a185a"
      },
      "execution_count": null,
      "outputs": [
        {
          "output_type": "stream",
          "name": "stdout",
          "text": [
            "88.98282469438041\n"
          ]
        }
      ]
    },
    {
      "cell_type": "code",
      "source": [
        "def modelo(n):\n",
        "    medias_muestrales=[]\n",
        "    for i in range(n):\n",
        "        s = simulaciones(2000)\n",
        "        medias_muestrales.append(np.mean(s))\n",
        "    return medias_muestrales"
      ],
      "metadata": {
        "id": "KaQdntON2Bnx"
      },
      "execution_count": null,
      "outputs": []
    },
    {
      "cell_type": "code",
      "source": [
        "medias= modelo(89)"
      ],
      "metadata": {
        "id": "Sotch5CW2Mr2"
      },
      "execution_count": null,
      "outputs": []
    },
    {
      "cell_type": "code",
      "source": [
        "plt.hist(medias)\n",
        "plt.xlabel('X')\n",
        "plt.ylabel('frecuencias')\n",
        "plt.title('Gráfica de medias muestrales')\n",
        "plt.show()"
      ],
      "metadata": {
        "colab": {
          "base_uri": "https://localhost:8080/",
          "height": 278
        },
        "id": "Cp-N1i-m3PUK",
        "outputId": "f1bf5c61-4f2b-4a7d-e1a2-a73d8e106628"
      },
      "execution_count": null,
      "outputs": [
        {
          "output_type": "display_data",
          "data": {
            "text/plain": [
              "<Figure size 640x480 with 1 Axes>"
            ],
            "image/png": "[encoded data removed]"
          },
          "metadata": {}
        }
      ]
    },
    {
      "cell_type": "markdown",
      "source": [
        "# **La probabilidad de que el tiempo de espera de los citados sea menor a 10 min**"
      ],
      "metadata": {
        "id": "dBKxH1w-5LsB"
      }
    },
    {
      "cell_type": "code",
      "source": [
        "np.mean(medias)"
      ],
      "metadata": {
        "colab": {
          "base_uri": "https://localhost:8080/"
        },
        "id": "HA-yckRt3njh",
        "outputId": "ed73df68-b842-4ee0-d27c-0e12ccb91132"
      },
      "execution_count": null,
      "outputs": [
        {
          "output_type": "execute_result",
          "data": {
            "text/plain": [
              "0.5556072038671083"
            ]
          },
          "metadata": {},
          "execution_count": 80
        }
      ]
    },
    {
      "cell_type": "markdown",
      "source": [
        "# **Hallar intervalos de confianza**"
      ],
      "metadata": {
        "id": "pyjXG6Xj3ttx"
      }
    },
    {
      "cell_type": "markdown",
      "source": [
        "![U.PNG](data:image/png;base64,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)"
      ],
      "metadata": {
        "id": "UJ8ZQKCS38Jo"
      }
    },
    {
      "cell_type": "code",
      "source": [
        "np.mean(medias) - 1.96*np.std(medias)/np.sqrt(89), np.mean(medias) + 1.96*np.std(medias)/np.sqrt(89)"
      ],
      "metadata": {
        "colab": {
          "base_uri": "https://localhost:8080/"
        },
        "id": "2rd5Shbn4DxX",
        "outputId": "9d9bb59c-046d-4e46-f714-340fa6cc1868"
      },
      "execution_count": null,
      "outputs": [
        {
          "output_type": "execute_result",
          "data": {
            "text/plain": [
              "(0.5525236240636664, 0.5586907836705501)"
            ]
          },
          "metadata": {},
          "execution_count": 84
        }
      ]
    }
  ]
}